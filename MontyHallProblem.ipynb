{
 "cells": [
  {
   "cell_type": "code",
   "execution_count": 48,
   "id": "02c6b9ed-d882-4efa-98e6-45e4f8d08c4b",
   "metadata": {
    "execution": {
     "iopub.execute_input": "2024-10-03T07:49:43.228766Z",
     "iopub.status.busy": "2024-10-03T07:49:43.228766Z",
     "iopub.status.idle": "2024-10-03T07:49:58.105054Z",
     "shell.execute_reply": "2024-10-03T07:49:58.103961Z",
     "shell.execute_reply.started": "2024-10-03T07:49:43.228766Z"
    }
   },
   "outputs": [
    {
     "name": "stdout",
     "output_type": "stream",
     "text": [
      "After 10000000 trials:\n",
      "Wins by staying: 3333416 (33.33%)\n",
      "Wins by switching: 6666584 (66.67%)\n"
     ]
    }
   ],
   "source": [
    "import random\n",
    "\n",
    "def monty_hall_simulation(num_trials):\n",
    "    switch_wins = 0\n",
    "    stay_wins = 0\n",
    "\n",
    "    for _ in range(num_trials):\n",
    "        # Step 1: Place the car behind one of the three doors\n",
    "        doors = ['goat', 'goat', 'car']\n",
    "        random.shuffle(doors)\n",
    "        # Step 2: Contestant makes a choice\n",
    "        contestant_choice = random.randint(0, 2)\n",
    "\n",
    "        \n",
    "        # Step 3: Monty opens a door revealing a goat\n",
    "        # Monty's choice is to open one of the two remaining doors\n",
    "        monty_choices = [i for i in range(3) if i != contestant_choice and doors[i] == 'goat']\n",
    "        monty_opens = random.choice(monty_choices)\n",
    "        \n",
    "\n",
    "        # Step 4: The contestant can either switch or stay\n",
    "        # Stay with the original choice\n",
    "        if doors[contestant_choice] == 'car':\n",
    "            stay_wins += 1\n",
    "        \n",
    "        # Switch to the other remaining door\n",
    "        remaining_choices = [i for i in range(3) if i != contestant_choice and i != monty_opens]\n",
    "        switch_choice = remaining_choices[0]\n",
    "        if doors[switch_choice] == 'car':\n",
    "            switch_wins += 1\n",
    "\n",
    "    \n",
    "    return stay_wins, switch_wins\n",
    "\n",
    "# Run the simulation\n",
    "num_trials = 10000000\n",
    "stay_wins, switch_wins = monty_hall_simulation(num_trials)\n",
    "\n",
    "# Print the results\n",
    "print(f\"After {num_trials} trials:\")\n",
    "print(f\"Wins by staying: {stay_wins} ({(stay_wins / num_trials) * 100:.2f}%)\")\n",
    "print(f\"Wins by switching: {switch_wins} ({(switch_wins / num_trials) * 100:.2f}%)\")\n"
   ]
  },
  {
   "cell_type": "code",
   "execution_count": null,
   "id": "c4e2f16c-44f6-4fc9-8056-ae5fe21d9074",
   "metadata": {},
   "outputs": [],
   "source": []
  }
 ],
 "metadata": {
  "kernelspec": {
   "display_name": "Python 3 (ipykernel)",
   "language": "python",
   "name": "python3"
  },
  "language_info": {
   "codemirror_mode": {
    "name": "ipython",
    "version": 3
   },
   "file_extension": ".py",
   "mimetype": "text/x-python",
   "name": "python",
   "nbconvert_exporter": "python",
   "pygments_lexer": "ipython3",
   "version": "3.11.5"
  }
 },
 "nbformat": 4,
 "nbformat_minor": 5
}
